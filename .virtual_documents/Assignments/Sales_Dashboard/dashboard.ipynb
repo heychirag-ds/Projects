import pandas as pd
import numpy as np
import matplotlib.pyplot as plt


#Data Loading and Cleaning:
#1.Load JSON data into Pandas DataFrame.
#2.Clean Price column: strip $ sign and convert to float.
#3.Convert OrderDate to proper datetime format

df = pd.read_json("data.json")
df['OrderDate'] = pd.to_datetime(df['OrderDate'])
df['Price'] = df['Price'].str.strip("$").astype(float)


#Feature Engineering:
#1.Create a TotalPrice column = Quantity × Price (float).
#2.Extract additional date features like Year, Month, Quarter from OrderDate for time-series analysis.

df['Total Price'] = df['Quantity'] * df['Price']
df['Year'] = df['OrderDate'].dt.year
df['Month'] = df['OrderDate'].dt.to_period('M')
df['Quarter'] = df['OrderDate'].dt.to_period('Q')


#Descriptive Analysis (UI-less):
#Calculate KPIs:
  #1.Total sales revenue.
  #2.Number of orders.
  #3.Average order value.

#1.Total Sales Revenue
total_revenue = df['Total Price'].sum()
print(f"Total revenue: {total_revenue}")

#2. Number of Orders
total_orders = df['OrderId'].count()
print(f"Total Orders: {total_orders}")

#3. Average Order Value
average_order_value = total_revenue / total_orders
print(f"Average Order Value: ${average_order_value:.2f}")


#Analyze sales by:
#1.Category (which product categories are generating the most revenue).
#2.Region (top performing regions).
#3.Identify the top customers by total spending.

#1. Category-wise total revenue
category_revenue = df.groupby("Category")["Total Price"].sum().sort_values(ascending=False)
print("Category Revenue:\n", category_revenue)

# 2. Region-wise total revenue
region_revenue = df.groupby("Region")["Total Price"].sum().sort_values(ascending=False)
print("\nRegion Revenue:\n", region_revenue)

#3. Customer-wise revenue
customer_revenue = df.groupby("CustomerId")["Total Price"].sum().sort_values(ascending=False)
print("\nCustomer revenue:", customer_revenue)


#Visualizations (Matplotlib)
#1.Bar chart: Revenue by Category.
#2.Line chart: Sales over time (monthly/quarterly).
#3.Pie chart: Market share by Region.
#4.Histogram: Distribution of order quantities or prices.
#5.Scatter plot: Quantity vs. Price.

#1. Bar Chart of Revenues by category
plt.figure(figsize=(12,6))
plt.bar(category_revenue.index, category_revenue.values, color='skyblue')
plt.xticks(rotation=45, ha='right')
plt.xlabel('Category')
plt.ylabel('Total Revenue in $')
plt.title('Category Revenue', fontweight='bold')
plt.tight_layout()
plt.grid(axis='y', linestyle='-', alpha=0.7)
plt.show()


#2. Line Chart to display Sales overt time
monthly_sales = df.groupby(df['Month'])['Total Price'].sum()
months = monthly_sales.index.astype(str)

plt.figure(figsize=(10,6))
plt.plot(months, monthly_sales, marker='o', linestyle='-', color='#36d6cf')
plt.title("Monthly Sales Trend", fontweight="bold")
plt.xlabel("Period")
plt.ylabel("Total Revenue($)")
plt.xticks(rotation=45)
plt.grid(True)
plt.tight_layout()
plt.show()


#Pie chart to display market share by region
plt.figure(figsize=(10,6))
plt.pie(region_revenue.values, labels=region_revenue.index, autopct='%1.1f%%',)
plt.title("Market Share by region")
plt.show()

#Avoid Piecharts when the data is crowded else it looks dirty, confusing like below


#4.Histogram: Distribution of prices

plt.figure(figsize=(10,6))
plt.hist(df['Total Price'], bins=10, color='skyblue', edgecolor='black')
plt.title('Distribution of Order Prices')
plt.xlabel('Total Price ($)')
plt.ylabel('Number of Orders')
plt.grid(True)
plt.show()


#5.Scatter plot: Quantity vs. Price.
import matplotlib.cm as cm
import matplotlib.colors as mcolors

categories = df['Category'].unique()
colors = cm.tab20(np.linspace(0, 1, len(categories)))
color_map = dict(zip(categories, colors))

plt.figure(figsize=(12, 8))

for category in categories:
    subset = df[df['Category'] == category]
    plt.scatter(subset['Quantity'], subset['Total Price'],
                color=color_map[category], label=category,
                edgecolor='black', alpha=0.7, s=100) 

plt.title("🟠 Quantity vs. Total Price by Category", fontsize=16)
plt.xlabel("Quantity Ordered", fontsize=12)
plt.ylabel("Total Price ($)", fontsize=12)
plt.grid(True, linestyle='--', alpha=0.5)
plt.legend(title="Product Category", bbox_to_anchor=(1.05, 1), loc='upper left')
plt.tight_layout()
plt.show()
