import pandas as pd
import numpy as np
import matplotlib.pyplot as plt
from datetime import date, time


#Data PreProcessing
  #Parse JoiningDate as datetime
  #Calculate TenureInMonths

df = pd.read_json("employee_data.json")
df['JoiningDate'] = pd.to_datetime(df['JoiningDate'])
df['JoiningDate']

current_date = pd.to_datetime(date.today())
current_date
df['TenureInDays'] = current_date - df['JoiningDate']


#Analysis
  #Top Performers
  #Department-wise Summary

top_performers = df.sort_values(by=['TasksCompleted', 'HoursWorked', 'SatisfactionScore'], ascending=False)
top_performers[['EmployeeID', 'Name', 'Department', 'TasksCompleted', 'HoursWorked', 'SatisfactionScore']].head(10)

dept_summary = df.groupby('Department')[['TasksCompleted', 'HoursWorked', 'SatisfactionScore']].agg(['mean', 'sum']).round(2)
dept_summary


#Visualization
  #📊 Bar chart: Avg PerformanceScore per Department
  #🔥 Pie chart: Project load by department

avgPerformance = df.groupby('Department')['SatisfactionScore'].mean().round(2)
avgPerformance

plt.bar(avgPerformance.index, avgPerformance.values, color='skyblue')

for i in range (len(avgPerformance.index)):
    plt.text(i, avgPerformance.values[i] + 0.05, str(avgPerformance.values[i]), ha="center") 

plt.title("Average Performance Score per department", fontweight='bold')
plt.xlabel('Departments')
plt.ylabel('Average Satisfaction Scores')
plt.tight_layout()
plt.show()


projectLoad = df.groupby('Department')['TasksCompleted'].sum()

plt.figure(figsize=(8,8))
plt.pie(projectLoad, labels=projectLoad.index,  autopct='%1.1f%%', startangle=140, colors=plt.cm.Set3.colors)
plt.title('Project Load by Department (Total Tasks Completed)', fontweight='bold')
plt.show()
