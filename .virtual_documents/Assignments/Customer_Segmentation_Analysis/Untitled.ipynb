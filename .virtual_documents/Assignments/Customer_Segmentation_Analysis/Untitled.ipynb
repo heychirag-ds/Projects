import pandas as pd
import matplotlib.pyplot as plt
import numpy as np
from datetime import date, time, datetime


#Data Processing
df = pd.read_json("customers.json")

df['LastPurchaseDate'] = pd.to_datetime(df['LastPurchaseDate'])
df['Monetary'] = df['Frequency'] * df['AveragePurchase']
df.head()


#Segmentation Logic
df['Recency'] = (datetime.now() - df['LastPurchaseDate']).dt.days
high_freq = df['Frequency'].quantile(0.75)
high_loyalty = df['LoyaltyScore'].quantile(0.75)
high_purchase = df['AveragePurchase'].quantile(0.75)
low_freq = df['Frequency'].quantile(0.25)
low_loyalty = df['LoyaltyScore'].quantile(0.25)
low_purchase = df['AveragePurchase'].quantile(0.25)
recent_cutoff = df['Recency'].quantile(0.25)

def segment_customer(row):
    if row['Frequency'] >= high_freq and row['AveragePurchase'] >= high_purchase and row['LoyaltyScore'] >= high_loyalty:
        return "High-Value Loyalist"
    elif row['Frequency'] <= low_freq and row['LoyaltyScore'] <= low_loyalty and row['Recency'] >= 90:
        return "At Risk"
    elif row['Recency'] <= recent_cutoff and low_freq < row['Frequency'] < high_freq:
        return "New Customer"
    elif row['Frequency'] <= low_freq and 200 <= row['AveragePurchase'] <= 400:
        return "Occasional Buyer"
    else:
        return "General"

df['Segment'] = df.apply(segment_customer, axis=1)
df.head()
